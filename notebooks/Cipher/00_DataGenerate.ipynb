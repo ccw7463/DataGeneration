{
 "cells": [
  {
   "cell_type": "code",
   "execution_count": 1,
   "metadata": {},
   "outputs": [],
   "source": [
    "from openai import OpenAI\n",
    "from datasets import load_dataset\n",
    "import json\n",
    "from tqdm import tqdm"
   ]
  },
  {
   "cell_type": "code",
   "execution_count": 2,
   "metadata": {},
   "outputs": [],
   "source": [
    "class DataGenerator:\n",
    "    def __init__(self):\n",
    "        self.openai_api_key = \"EMPTY\"\n",
    "        self.openai_api_base = \"http://192.168.1.20:1318/v1\"\n",
    "        self.client = OpenAI(\n",
    "            api_key=self.openai_api_key,\n",
    "            base_url=self.openai_api_base,\n",
    "        )\n",
    "        self.USE_MODEL = \"pixtral\"\n",
    "        self.MODEL_NAME_DICT = {\n",
    "            \"qwen\": \"Qwen/Qwen2-VL-72B-Instruct\",\n",
    "            \"pixtral\": \"mistralai/Pixtral-Large-Instruct-2411\"\n",
    "        }\n",
    "        self.MODEL_NAME = self.MODEL_NAME_DICT[self.USE_MODEL]\n",
    "        self.SYSTEM_PROMPT_DICT = {\n",
    "            \"qwen\": \"You are Qwen, created by Alibaba Cloud. You are a helpful assistant.\",\n",
    "            \"pixtral\": \"You are a helpful assistant.\"\n",
    "        }\n",
    "        self.SYSTEM_PROMPT = self.SYSTEM_PROMPT_DICT[self.USE_MODEL]\n",
    "\n",
    "    def LLM_Call(self, \n",
    "                 prompt: str) -> str:\n",
    "        chat_response = self.client.chat.completions.create(\n",
    "            model=self.MODEL_NAME,\n",
    "            messages=[\n",
    "                {\"role\": \"system\", \"content\": self.SYSTEM_PROMPT},\n",
    "                {\"role\": \"user\", \"content\": f\"{prompt}\"},\n",
    "            ],\n",
    "            temperature=0.001,\n",
    "            top_p=0.001,\n",
    "            max_tokens=4096,\n",
    "            extra_body={\n",
    "                \"repetition_penalty\": 1.03,\n",
    "            },\n",
    "        )\n",
    "        return chat_response.choices[0].message.content"
   ]
  },
  {
   "cell_type": "code",
   "execution_count": 3,
   "metadata": {},
   "outputs": [],
   "source": [
    "def get_question(context: str) -> str:\n",
    "    prompt = f\"\"\"당신은 데이터 생성 전문가입니다.\n",
    "    \n",
    "    보안 관련 질의 데이터 1개를 만들어야합니다.\n",
    "    영어로 표기해야하는 전문 용어만 영어를 사용합니다.\n",
    "    영어로 표기해야하는 전문 용어가 아닐경우 무조건 질의는 한국어로 생성합니다.\n",
    "    [Context]을 참고해서 질의 데이터 1개를 만들어주세요. 무조건 질의 문장만 생성합니다.\n",
    "    \n",
    "    [Context]\n",
    "    {context}\n",
    "    \"\"\"\n",
    "    return prompt\n",
    "\n",
    "def get_answer(question: str,\n",
    "               context: str) -> str:\n",
    "    prompt = f\"\"\"당신은 데이터 생성 전문가입니다.\n",
    "    \n",
    "    보안 관련 응답 데이터를 만들어야합니다.\n",
    "    영어로 표기해야하는 전문 용어만 영어를 사용합니다.\n",
    "    영어로 표기해야하는 전문 용어가 아닐경우 무조건 응답은 한국어로 생성합니다.\n",
    "    [Context]을 참고해서, [Question]에 대한 응답 데이터를 만들어주세요. 무조건 응답 문장만 생성합니다.\n",
    "    \n",
    "    [Context]\n",
    "    {context}\n",
    "    \n",
    "    [Question]\n",
    "    {question}\n",
    "    \"\"\"\n",
    "    return prompt"
   ]
  },
  {
   "cell_type": "code",
   "execution_count": 4,
   "metadata": {},
   "outputs": [],
   "source": [
    "data_generator = DataGenerator()"
   ]
  },
  {
   "cell_type": "code",
   "execution_count": 5,
   "metadata": {},
   "outputs": [
    {
     "name": "stdout",
     "output_type": "stream",
     "text": [
      "Dataset({\n",
      "    features: ['output', 'system', 'instruction'],\n",
      "    num_rows: 36022\n",
      "})\n"
     ]
    }
   ],
   "source": [
    "dataset = load_dataset(\"PNU-Infosec/cipher-context-dataset\", \"cipher\", split=\"train\")\n",
    "print(dataset)"
   ]
  },
  {
   "cell_type": "code",
   "execution_count": 6,
   "metadata": {},
   "outputs": [],
   "source": [
    "parallel_dataset = dataset.select(range(0,7500))"
   ]
  },
  {
   "cell_type": "code",
   "execution_count": 13,
   "metadata": {},
   "outputs": [
    {
     "name": "stderr",
     "output_type": "stream",
     "text": [
      "  1%|          | 44/7500 [02:35<4:52:30,  2.35s/it] "
     ]
    }
   ],
   "source": [
    "JSON_DATA = []\n",
    "for idx, data in enumerate(tqdm(parallel_dataset)):\n",
    "    try:\n",
    "        question_prompt = get_question(context=data['output'])\n",
    "        question = data_generator.LLM_Call(question_prompt)\n",
    "        answer_prompt = get_answer(question=question, \n",
    "                                   context=data['output'])\n",
    "        answer = data_generator.LLM_Call(answer_prompt)\n",
    "        JSON_DATA.append({\n",
    "            \"instruction\": question.strip(),\n",
    "            \"output\": answer.strip()\n",
    "        })\n",
    "    except:\n",
    "        print(f\"Error: {data}\")\n",
    "        continue\n",
    "    if (idx % 500 == 0) or (idx == 10):\n",
    "        with open(f\"cipher_data_parallel_version_1.json\", \"w\", encoding=\"utf-8\") as f:\n",
    "            json.dump(JSON_DATA, f, ensure_ascii=False, indent=4)\n",
    "with open(f\"cipher_data_parallel_version_1.json\", \"w\", encoding=\"utf-8\") as f:\n",
    "    json.dump(JSON_DATA, f, ensure_ascii=False, indent=4)"
   ]
  },
  {
   "cell_type": "code",
   "execution_count": 7,
   "metadata": {},
   "outputs": [],
   "source": [
    "import json\n",
    "from glob import glob\n",
    "ALL_DATA = []\n",
    "for path in glob(\"data/*.json\"):\n",
    "    with open(path, \"r\", encoding=\"utf-8\") as f:\n",
    "        data = json.load(f)\n",
    "    ALL_DATA.extend(data)\n",
    "\n",
    "with open(\"cipher_data_all.json\", \"w\", encoding=\"utf-8\") as f:\n",
    "    json.dump(ALL_DATA, f, ensure_ascii=False, indent=4)"
   ]
  }
 ],
 "metadata": {
  "kernelspec": {
   "display_name": ".venv",
   "language": "python",
   "name": "python3"
  },
  "language_info": {
   "codemirror_mode": {
    "name": "ipython",
    "version": 3
   },
   "file_extension": ".py",
   "mimetype": "text/x-python",
   "name": "python",
   "nbconvert_exporter": "python",
   "pygments_lexer": "ipython3",
   "version": "3.11.10"
  }
 },
 "nbformat": 4,
 "nbformat_minor": 2
}
