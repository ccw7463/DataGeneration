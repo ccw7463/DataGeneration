{
 "cells": [
  {
   "cell_type": "markdown",
   "metadata": {},
   "source": [
    "### Extract Job Info"
   ]
  },
  {
   "cell_type": "code",
   "execution_count": 1,
   "metadata": {},
   "outputs": [
    {
     "name": "stderr",
     "output_type": "stream",
     "text": [
      "USER_AGENT environment variable not set, consider setting it to identify your requests.\n"
     ]
    }
   ],
   "source": [
    "import pandas as pd\n",
    "import chardet\n",
    "import json\n",
    "from tqdm import tqdm\n",
    "from module.rss import RSSGetter"
   ]
  },
  {
   "cell_type": "code",
   "execution_count": 2,
   "metadata": {},
   "outputs": [],
   "source": [
    "from openai import OpenAI\n",
    "\n",
    "class DataGenerator:\n",
    "    def __init__(self):\n",
    "        self.openai_api_key = \"EMPTY\"\n",
    "        self.openai_api_base = \"http://192.168.1.20:1318/v1\"\n",
    "        self.client = OpenAI(\n",
    "            api_key=self.openai_api_key,\n",
    "            base_url=self.openai_api_base,\n",
    "        )\n",
    "        self.USE_MODEL = \"pixtral\"\n",
    "        self.MODEL_NAME_DICT = {\n",
    "            \"qwen\": \"Qwen/Qwen2-VL-72B-Instruct\",\n",
    "            \"pixtral\": \"mistralai/Pixtral-Large-Instruct-2411\"\n",
    "        }\n",
    "        self.MODEL_NAME = self.MODEL_NAME_DICT[self.USE_MODEL]\n",
    "        self.SYSTEM_PROMPT_DICT = {\n",
    "            \"qwen\": \"You are Qwen, created by Alibaba Cloud. You are a helpful assistant.\",\n",
    "            \"pixtral\": \"You are a helpful assistant.\"\n",
    "        }\n",
    "        self.SYSTEM_PROMPT = self.SYSTEM_PROMPT_DICT[self.USE_MODEL]\n",
    "\n",
    "    def LLM_Call(self, \n",
    "                 prompt: str) -> str:\n",
    "        chat_response = self.client.chat.completions.create(\n",
    "            model=self.MODEL_NAME,\n",
    "            messages=[\n",
    "                {\"role\": \"system\", \"content\": self.SYSTEM_PROMPT},\n",
    "                {\"role\": \"user\", \"content\": f\"{prompt}\"},\n",
    "            ],\n",
    "            temperature=0.001,\n",
    "            top_p=0.001,\n",
    "            max_tokens=4096,\n",
    "            extra_body={\n",
    "                \"repetition_penalty\": 1.03,\n",
    "            },\n",
    "        )\n",
    "        return chat_response.choices[0].message.content"
   ]
  },
  {
   "cell_type": "code",
   "execution_count": 3,
   "metadata": {},
   "outputs": [],
   "source": [
    "def get_question(job_name: str,\n",
    "                 question_type: str) -> str:\n",
    "    prompt = f\"\"\"당신은 데이터 생성 전문가입니다.\n",
    "    \n",
    "    [직업 이름]과 [질문 종류]를 참고하여, 질문 또는 요청문을 1개 생성해주세요.\n",
    "    무조건 질문 또는 요청문만 생성합니다.\n",
    "    질문 또는 요청문은 무조건 한국어로 생성합니다. \n",
    "    \n",
    "    예를들어,\n",
    "    1. **가 하는일은 무엇인가요?\n",
    "    2. **의 직무에 대해서 알려주세요.\n",
    "    3. **의 연봉은 얼마쯤인가요?\n",
    "    4. **의 전망은 어떤가요?\n",
    "    5. **의 임금 상승률은 어떤가요?\n",
    "    6. **가 하는일에 대해 알려주세요.\n",
    "    7. **의 연봉에 대해 알려주실래요?\n",
    "    8. **의 전망에 대해 알려주세요.\n",
    "    \n",
    "    [직업 이름]\n",
    "    {job_name}\n",
    "    \n",
    "    [질문 종류]\n",
    "    {question_type}\n",
    "    \"\"\"\n",
    "    return prompt\n",
    "\n",
    "def get_answer(job_name: str,\n",
    "               question: str) -> str:\n",
    "    prompt = f\"\"\"당신은 데이터 생성 전문가입니다.\n",
    "    \n",
    "    [직업 이름]과 [질문]을 참고하여, 답변을 생성해주세요.\n",
    "    답변은 무조건 한국어로 생성합니다.\n",
    "    \n",
    "    [직업 이름]\n",
    "    {job_name}\n",
    "    \n",
    "    [질문]\n",
    "    {question}\n",
    "    \"\"\"\n",
    "    return prompt"
   ]
  },
  {
   "cell_type": "code",
   "execution_count": 4,
   "metadata": {},
   "outputs": [
    {
     "name": "stdout",
     "output_type": "stream",
     "text": [
      "🖥ChromeDriver가 존재합니다.\n"
     ]
    }
   ],
   "source": [
    "job_data_generator = DataGenerator()\n",
    "rss = RSSGetter()"
   ]
  },
  {
   "cell_type": "markdown",
   "metadata": {},
   "source": [
    "데이터 종류\n",
    "- 1. 직무, 하는일 (Job Description, Job Duties)\n",
    "- 2. 임금, 연봉 (Salary, Annual Salary)\n",
    "- 3. 전망 (Job Outlook, Job Growth)"
   ]
  },
  {
   "cell_type": "code",
   "execution_count": 5,
   "metadata": {},
   "outputs": [],
   "source": [
    "encoding = chardet.detect(open('job_data.csv', 'rb').read())\n",
    "df = pd.read_csv('job_data.csv',\n",
    "                 encoding=encoding['encoding'])\n",
    "job_list = list(df['KNOW직업명'].values)"
   ]
  },
  {
   "cell_type": "code",
   "execution_count": null,
   "metadata": {},
   "outputs": [],
   "source": [
    "JSON_DATA = []\n",
    "for job in tqdm(job_list):\n",
    "    print(f\"직업이름 : {job}\")\n",
    "    try:\n",
    "        for question_type in [\"직무, 하는일\", \"임금, 연봉\", \"전망\"]:\n",
    "            question_prompt = get_question(job, question_type).strip()\n",
    "            question = job_data_generator.LLM_Call(question_prompt).strip()\n",
    "            answer_prompt = get_answer(job, question).strip()\n",
    "            answer = job_data_generator.LLM_Call(answer_prompt).strip()\n",
    "            JSON_DATA.append({\n",
    "                \"job_name\": job,\n",
    "                \"question_type\": question_type,\n",
    "                \"question_prompt\": question_prompt,\n",
    "                \"question\": question,\n",
    "                \"answer_prompt\": answer_prompt,\n",
    "                \"answer\": answer\n",
    "            })\n",
    "    except:\n",
    "        print(f\"Error: {job}\")\n",
    "        continue\n",
    "    with open(\"job_data.json\", \"w\", encoding=\"utf-8\") as f:\n",
    "        json.dump(JSON_DATA, f, ensure_ascii=False, indent=4)"
   ]
  }
 ],
 "metadata": {
  "kernelspec": {
   "display_name": "Python 3",
   "language": "python",
   "name": "python3"
  },
  "language_info": {
   "codemirror_mode": {
    "name": "ipython",
    "version": 3
   },
   "file_extension": ".py",
   "mimetype": "text/x-python",
   "name": "python",
   "nbconvert_exporter": "python",
   "pygments_lexer": "ipython3",
   "version": "3.11.10"
  }
 },
 "nbformat": 4,
 "nbformat_minor": 2
}
