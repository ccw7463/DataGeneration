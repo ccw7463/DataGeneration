{
 "cells": [
  {
   "cell_type": "markdown",
   "metadata": {},
   "source": [
    "### Extract Job Info"
   ]
  },
  {
   "cell_type": "code",
   "execution_count": 1,
   "metadata": {},
   "outputs": [],
   "source": [
    "import pandas as pd\n",
    "import chardet\n",
    "import json\n",
    "from loguru import logger"
   ]
  },
  {
   "cell_type": "code",
   "execution_count": 2,
   "metadata": {},
   "outputs": [],
   "source": [
    "encoding = chardet.detect(open('job_data.csv', 'rb').read())\n",
    "df = pd.read_csv('job_data.csv',\n",
    "                 encoding=encoding['encoding'])\n",
    "job_list = list(df['KNOW직업명'].values)"
   ]
  },
  {
   "cell_type": "markdown",
   "metadata": {},
   "source": [
    "흐름.\n",
    "1. 직업명 들어옴.\n",
    "2. 5개의 노드로 분기됨 (병렬실행)\n",
    "3. 각 노드에서는 해당되는 검색을 수행후 답변생성\n",
    "4. 답변취합\n",
    "5. 적절성 판단.\n",
    "6. 부적절한 내용은 해당 노드만 재 분기하여 검색."
   ]
  },
  {
   "cell_type": "code",
   "execution_count": 28,
   "metadata": {},
   "outputs": [],
   "source": [
    "from langchain_community.document_loaders import AsyncHtmlLoader\n",
    "from langchain_community.document_transformers import Html2TextTransformer\n",
    "from langchain_core.messages import HumanMessage, SystemMessage, AIMessage\n",
    "from langgraph.graph import START, MessagesState, StateGraph, END\n",
    "from langchain.tools import tool\n",
    "from bs4 import BeautifulSoup\n",
    "from duckduckgo_search import DDGS\n",
    "from langchain_community.tools.tavily_search import TavilySearchResults\n",
    "from models.model import LLM"
   ]
  },
  {
   "cell_type": "code",
   "execution_count": 29,
   "metadata": {},
   "outputs": [],
   "source": [
    "import os\n",
    "import dotenv\n",
    "dotenv.load_dotenv()\n",
    "os.environ[\"TAVILY_API_KEY\"] = os.getenv(\"TAVILY_API_KEY\")"
   ]
  },
  {
   "cell_type": "code",
   "execution_count": 30,
   "metadata": {},
   "outputs": [],
   "source": [
    "@tool\n",
    "def DDGS_search(query) -> list:\n",
    "    \"\"\"Look up things online.\"\"\"\n",
    "    searches = DDGS().text(keywords=query, max_results=5)\n",
    "    return searches\n",
    "\n",
    "@tool\n",
    "def Tavily_search(query) -> list:\n",
    "    \"\"\"Look up things online.\"\"\"\n",
    "    searches = TavilySearchResults(max_results=3).invoke({\"query\":query})\n",
    "    return searches\n",
    "\n",
    "@tool\n",
    "def extract_content(link: str) -> str:\n",
    "    \"\"\"Extract content from a given link.\"\"\"\n",
    "    loader = AsyncHtmlLoader(link)\n",
    "    docs = loader.load()\n",
    "    html2text = Html2TextTransformer()\n",
    "    docs_transformed = html2text.transform_documents(docs, metadata_type=\"html\")\n",
    "    detailed_content = docs_transformed[0].page_content\n",
    "    return detailed_content"
   ]
  },
  {
   "cell_type": "code",
   "execution_count": 21,
   "metadata": {},
   "outputs": [],
   "source": [
    "# state[\"messages\"] = [SystemMessage(content=\"당신은 정보 검색 전문가입니다.\"), \n",
    "                    #  HumanMessage(content=f\"{state['query']}에 적합한 내용만을 추출하세요. 최대한 짧고 간결하게 핵심내용만 추출합니다.\")]"
   ]
  },
  {
   "cell_type": "code",
   "execution_count": 40,
   "metadata": {},
   "outputs": [],
   "source": [
    "def Node__search_todo(state):\n",
    "    logger.info(\"Node__search_todo\")\n",
    "    query = state['messages'][0].content + \" \" + \"하는일\"\n",
    "    state[\"query\"] = query\n",
    "    searches = Tavily_search.invoke({\"query\":query})\n",
    "    print(\"searches :\",searches)\n",
    "    state[\"searches\"] = searches\n",
    "    print(\"result state todo:\",state) \n",
    "    return state\n",
    "\n",
    "def Node__search_salary(state):\n",
    "    logger.info(\"Node__search_salary\")\n",
    "    query = state['messages'][0].content + \" \" + \"연봉, 임금정보\"\n",
    "    state[\"query\"] = query\n",
    "    searches = Tavily_search.invoke({\"query\":query})\n",
    "    print(\"searches :\",searches)\n",
    "    state[\"searches\"] = searches\n",
    "    print(\"result state salary:\",state)\n",
    "    return state\n",
    "\n",
    "def Node__extract_content(state):\n",
    "    logger.info(\"Node__extract_content\")\n",
    "    print(\"state :\",state)\n",
    "    for idx,search in enumerate(state['searches']):\n",
    "        logger.warning(f\"search_{idx} : {search['href']}\")\n",
    "        detailed_content = extract_content(search['href'])\n",
    "        msg = [HumanMessage(content=f\"\"\" \\n \n",
    "                            참고내용에서 사용자 요청문에 적합한 내용만을 추출하세요. 최대한 짧고 간결하게 핵심내용만 추출합니다.\n",
    "                            \n",
    "                            사용자 요청문 : {state[\"query\"]}\n",
    "                            \n",
    "                            참고내용 :\n",
    "                            {detailed_content} \n",
    "                            Formulate an improved question: \"\"\")]\n",
    "        response = LLM.invoke(msg)\n",
    "        state[\"searches\"][idx][\"detailed_content\"] = response.content\n",
    "    return state\n",
    "\n",
    "def call_model(state: MessagesState):\n",
    "    response = LLM.invoke(state[\"messages\"])\n",
    "    return {\"messages\": response}"
   ]
  },
  {
   "cell_type": "code",
   "execution_count": 41,
   "metadata": {},
   "outputs": [],
   "source": [
    "# def extract_content_node(state):\n",
    "#     return {\"detailed_content\": extract_content(state)}\n",
    "\n",
    "# searches = search.invoke({\"query\":query,\n",
    "#                           \"subquery\":\"하는일\"})\n",
    "\n",
    "# detailed_content = extract_content.invoke({\"link\":searches[0]['href']})"
   ]
  },
  {
   "cell_type": "markdown",
   "metadata": {},
   "source": [
    "### Set LangGraph"
   ]
  },
  {
   "cell_type": "code",
   "execution_count": 42,
   "metadata": {},
   "outputs": [],
   "source": [
    "# Define a new graph\n",
    "workflow = StateGraph(state_schema=MessagesState)\n",
    "\n",
    "# Set Nodes\n",
    "workflow.add_node(\"Node__search_todo\", Node__search_todo)\n",
    "workflow.add_node(\"Node__search_salary\", Node__search_salary)\n",
    "workflow.add_node(\"Node__extract_content\", Node__extract_content)\n",
    "workflow.add_node(\"model\", call_model)\n",
    "\n",
    "# Set Edge\n",
    "workflow.add_edge(START, \"Node__search_todo\")\n",
    "workflow.add_edge(START, \"Node__search_salary\")\n",
    "workflow.add_edge(\"Node__search_todo\", \"Node__extract_content\")\n",
    "workflow.add_edge(\"Node__search_salary\", \"Node__extract_content\")\n",
    "workflow.add_edge(\"Node__extract_content\", \"model\")\n",
    "workflow.add_edge(\"model\", END)\n",
    "\n",
    "# Set Memory \n",
    "# graph = workflow.compile(checkpointer=memory)\n",
    "graph = workflow.compile()\n",
    "\n",
    "# Set Config\n",
    "config = {\"configurable\": {\"thread_id\": \"abc124\"}}"
   ]
  },
  {
   "cell_type": "code",
   "execution_count": 43,
   "metadata": {},
   "outputs": [
    {
     "data": {
      "image/png": "[encoded data removed]",
      "text/plain": [
       "<IPython.core.display.Image object>"
      ]
     },
     "metadata": {},
     "output_type": "display_data"
    }
   ],
   "source": [
    "from IPython.display import Image, display\n",
    "display(Image(graph.get_graph(xray=1).draw_mermaid_png()))"
   ]
  },
  {
   "cell_type": "code",
   "execution_count": 44,
   "metadata": {},
   "outputs": [
    {
     "name": "stderr",
     "output_type": "stream",
     "text": [
      "\u001b[32m2024-12-01 22:21:36.779\u001b[0m | \u001b[1mINFO    \u001b[0m | \u001b[36m__main__\u001b[0m:\u001b[36mNode__search_todo\u001b[0m:\u001b[36m2\u001b[0m - \u001b[1mNode__search_todo\u001b[0m\n",
      "\u001b[32m2024-12-01 22:21:36.779\u001b[0m | \u001b[1mINFO    \u001b[0m | \u001b[36m__main__\u001b[0m:\u001b[36mNode__search_salary\u001b[0m:\u001b[36m12\u001b[0m - \u001b[1mNode__search_salary\u001b[0m\n",
      "\u001b[32m2024-12-01 22:21:39.409\u001b[0m | \u001b[1mINFO    \u001b[0m | \u001b[36m__main__\u001b[0m:\u001b[36mNode__extract_content\u001b[0m:\u001b[36m22\u001b[0m - \u001b[1mNode__extract_content\u001b[0m\n"
     ]
    },
    {
     "name": "stdout",
     "output_type": "stream",
     "text": [
      "searches : [{'url': 'https://careermomentum.net/속기사-연봉-및-전망', 'content': '속기사 연봉 및 전망 Home » 직업 정보 » 속기사 연봉 및 전망 속기사 연봉 및 전망 이 글에서는 속기사의 연봉 및 전망, 업무 환경과 하는 일 그리고 속기사가 되는 법 등에 대해서 알아보도록 하겠습니다. 일반적으로 속기사 양성학원에서 속기사 자격증을 취득하면서 업무능력을 익히는 편이며, 자격증을 취득하면 국회, 법원, 검찰과 경찰 등 기록을 중요시하는 기관에서 일할 수 있습니다. 속기사의 연봉 경찰청에서 일하는 속기사의 경우 보통 월급은 200만원 수준이며 한 달에 보통 20~ 30건 정도의 사건을 처리한다고 합니다. 건 당 인센티브가 별도로 주어지기 때문에 월급도 인센티브에 따라 조금씩 다른 것으로 알려져 있습니다. 법원, 검찰, 경찰 등에서는 영상녹화제를 실시하면서 속기사의 필요성이 높아지고 있습니다. 미국 인공지능 관련 직업 연봉 및 추천 AI 기업 5곳 취업과 연봉 및 직업에 대한 정보를 제공합니다.'}, {'url': 'https://moneypicker.kr/속기사-연봉-월급-채용-전망/', 'content': '속기사 연봉/월급/채용/전망 총정리(2024년) 속기사 연봉/월급/채용/전망 총정리(2024년) 속기사 연봉 및 월급과 채용정보(되는 법), 앞으로의 전망 등에 대해서 알아보도록 하겠습니다. 속기사 되는법(채용) 속기사 연봉 및 월급 속기사 전망 속기사 되는법(채용) 속기사 채용 정보는 다음과 같습니다. 소리자바 아카데미 속기사 채용 공고 속기사 연봉 및 월급 속기사 연봉과 월급은 위와 같습니다. 속기사 전망 법원, 검찰, 경찰 등에서는 영상녹화제를 도입하고 있는데 이로 인해 재판이나 조사 과정에서 발언 내용을 기록하는 속기사의 역할이 더 중요해지고 있으며 TV 방송에서 청각장애인들이 시청할 수 있도록 자막을 제공하는 업무도 속기사의 중요한 업무 영역 중 하나로 자리 잡고 있어 이를 통해 속기사의 고용이 꾸준히 증가할 것으로 예상됩니다. 속기사 현직의 전망 평가 이렇게 속기사는 어떤 직입이며 되는 법, 채용, 연봉, 월급, 전망 등에 대해서 알아보았습니다. 저널리스트 연봉/월급/초봉과 되는 법(채용 정보) 카카오 개발자 평균 연봉/월급/채용/구인구직(직급별, 연령별 비교)'}, {'url': 'https://job.chosearch.com/속기사-연봉/', 'content': '속기사 연봉 | 되는법 | 전망 | 하는일 총정리 - 잡서치 속기사 연봉 | 되는법 | 전망 | 하는일 총정리 속기사는 법정, 의회, 회의, 강연 등에서 발언 내용을 신속하고 정확하게 기록하는 전문가로, 언어 능력과 빠른 타이핑이 요구되는 직업입니다. 이번 글에서는 속기사 연봉, 월급, 채용 정보, 자격증 취득 방법, 전망 등을 정리해보았습니다. 속기사 전망 국가에서 인정하는 속기사 자격증 취득 속기사 자격증 시험일정 👈 속기사 전망 속기사 연봉, 전망, 하는일, 되는법 참고하시길 바랍니다. 타일기능사 자격증 시험 정보 취득 방법 일정 2025 Categories 직업 전망 Tags 속기사 급여, 속기사 상위 연봉, 속기사 실수령액, 속기사 연봉, 속기사 연봉 수준, 속기사 연봉 인상률, 속기사 연봉 평균, 속기사 연봉 하위, 속기사 월급 한글 속기 1급 2급 3급 자격증 | 시험일정 | 취업 전망 총정리'}]\n",
      "result state salary: {'messages': [HumanMessage(content='속기사', additional_kwargs={}, response_metadata={}, id='89b07fd7-b50c-4814-b4bd-507db6d827e8')], 'query': '속기사 연봉, 임금정보', 'searches': [{'url': 'https://careermomentum.net/속기사-연봉-및-전망', 'content': '속기사 연봉 및 전망 Home » 직업 정보 » 속기사 연봉 및 전망 속기사 연봉 및 전망 이 글에서는 속기사의 연봉 및 전망, 업무 환경과 하는 일 그리고 속기사가 되는 법 등에 대해서 알아보도록 하겠습니다. 일반적으로 속기사 양성학원에서 속기사 자격증을 취득하면서 업무능력을 익히는 편이며, 자격증을 취득하면 국회, 법원, 검찰과 경찰 등 기록을 중요시하는 기관에서 일할 수 있습니다. 속기사의 연봉 경찰청에서 일하는 속기사의 경우 보통 월급은 200만원 수준이며 한 달에 보통 20~ 30건 정도의 사건을 처리한다고 합니다. 건 당 인센티브가 별도로 주어지기 때문에 월급도 인센티브에 따라 조금씩 다른 것으로 알려져 있습니다. 법원, 검찰, 경찰 등에서는 영상녹화제를 실시하면서 속기사의 필요성이 높아지고 있습니다. 미국 인공지능 관련 직업 연봉 및 추천 AI 기업 5곳 취업과 연봉 및 직업에 대한 정보를 제공합니다.'}, {'url': 'https://moneypicker.kr/속기사-연봉-월급-채용-전망/', 'content': '속기사 연봉/월급/채용/전망 총정리(2024년) 속기사 연봉/월급/채용/전망 총정리(2024년) 속기사 연봉 및 월급과 채용정보(되는 법), 앞으로의 전망 등에 대해서 알아보도록 하겠습니다. 속기사 되는법(채용) 속기사 연봉 및 월급 속기사 전망 속기사 되는법(채용) 속기사 채용 정보는 다음과 같습니다. 소리자바 아카데미 속기사 채용 공고 속기사 연봉 및 월급 속기사 연봉과 월급은 위와 같습니다. 속기사 전망 법원, 검찰, 경찰 등에서는 영상녹화제를 도입하고 있는데 이로 인해 재판이나 조사 과정에서 발언 내용을 기록하는 속기사의 역할이 더 중요해지고 있으며 TV 방송에서 청각장애인들이 시청할 수 있도록 자막을 제공하는 업무도 속기사의 중요한 업무 영역 중 하나로 자리 잡고 있어 이를 통해 속기사의 고용이 꾸준히 증가할 것으로 예상됩니다. 속기사 현직의 전망 평가 이렇게 속기사는 어떤 직입이며 되는 법, 채용, 연봉, 월급, 전망 등에 대해서 알아보았습니다. 저널리스트 연봉/월급/초봉과 되는 법(채용 정보) 카카오 개발자 평균 연봉/월급/채용/구인구직(직급별, 연령별 비교)'}, {'url': 'https://job.chosearch.com/속기사-연봉/', 'content': '속기사 연봉 | 되는법 | 전망 | 하는일 총정리 - 잡서치 속기사 연봉 | 되는법 | 전망 | 하는일 총정리 속기사는 법정, 의회, 회의, 강연 등에서 발언 내용을 신속하고 정확하게 기록하는 전문가로, 언어 능력과 빠른 타이핑이 요구되는 직업입니다. 이번 글에서는 속기사 연봉, 월급, 채용 정보, 자격증 취득 방법, 전망 등을 정리해보았습니다. 속기사 전망 국가에서 인정하는 속기사 자격증 취득 속기사 자격증 시험일정 👈 속기사 전망 속기사 연봉, 전망, 하는일, 되는법 참고하시길 바랍니다. 타일기능사 자격증 시험 정보 취득 방법 일정 2025 Categories 직업 전망 Tags 속기사 급여, 속기사 상위 연봉, 속기사 실수령액, 속기사 연봉, 속기사 연봉 수준, 속기사 연봉 인상률, 속기사 연봉 평균, 속기사 연봉 하위, 속기사 월급 한글 속기 1급 2급 3급 자격증 | 시험일정 | 취업 전망 총정리'}]}\n",
      "searches : [{'url': 'https://m.blog.naver.com/psr9231/223542076303', 'content': '속기사 하는 일, 14년차 속기사가 들려주는 솔직한 이야기 : 네이버 블로그 속기사 하는 일, 14년차 속기사가 들려주는 솔직한 이야기 속기사 하는일, 14년차 속기사가 들려주는 솔직한 이야기 오늘 이 글에서는 속기사 하는 일은 물론 속기사라는 직업이 지닌 진정한 가치와 매력에 대해 진솔하게 이야기 나누고자 합니다. 속기사는 단순히 빠르게 타이핑하는 사람이 아닌, 책임감 있는 기록을 전달하는 전문가라고 할 수 있습니다. 속기사 하는 일, 속기사 하는 일 파헤치기 녹취록에 어떤 내용을 담아야 하는지, 필요한 추가 정보를 수집하도록 안내하는 등 의뢰인에게 도움 되는 방향으로 이끌 수 있습니다. 하지만 속기사가 가져야 하는 앞으로 속기사가 되고자 하는 예비 속기사님들이 반드시 알아가셨으면 하는 것이 있습니다. 끊임없는 노력과 열정으로 성장한다면, 누군가의 삶에 큰 도움이 되는 전문 속기사로 거듭날 수 있을 것입니다. {\"title\":\"속기사 하는 일, 14년차 속기사가 들려주는 솔직한 이야기\",\"source\":\"https://blog.naver.com/psr9231/223542076303\",\"blogName\":\"신속기사무..\",\"blogId\":\"psr9231\",\"domainIdOrBlogId\":\"psr9231\",\"nicknameOrBlogId\":\"신속기사무소\",\"logNo\":223542076303,\"smartEditorVersion\":4,\"meDisplay\":true,\"lineDisplay\":true,\"outsideDisplay\":true,\"cafeDisplay\":true,\"blogDisplay\":true}'}, {'url': 'https://soristory.tistory.com/16', 'content': '학술 세미나, 연구 발표 등의 내용을 기록하는 학술 속기사는 해당 분야의 전문 용어와 개념을 이해하는 것이 중요합니다. 이 프로그램을 통해 속기 내용을 빠르게 문서화할 수 있습니다. 요약하자면, 속기사가 되기 위해서는 속기 기법, 용어, 분야별 전문 지식 등 다양한 영역에서 능력을 길러야 합니다. 속기 소프트웨어에는 전문 용어, 약어, 사용자 정의 기호 등을 저장할 수 있는 사전 기능이 있어요. 법원, 의료, 비즈니스, 학술 등 다양한 분야마다 요구되는 전문 지식이 다르기 때문에, 속기사는 자신의 전문 분야에서 관련 지식을 꾸준히 쌓아야 합니다. 예를 들어, 대한법원속기사협회의 법률 속기 교육 과정, 한국속기사협회의 속기 기호 및 번역 교육 과정 등이 있습니다. 속기사 협회나 커뮤니티를 통해 속기 기계, 소프트웨어의 업데이트, 최신 기술 트렌드에 대한 정보를 얻을 수 있습니다. 다양한 의료 속기 사례 연구와 함께 수술 기록 연습 등을 통해 실무 능력을 키울 수 있어요.'}, {'url': 'https://namu.wiki/w/속기사', 'content': '5월 6일 경 FishFast의 속기사 자격이 회복되었는데, 시험 규정상의 문제는 ... 속기 자판을 사용해야 하는 이유 속기사 자격증은 속기사의 능력을 테스트하는 것이지 빠른 타자 대회가 절대 아니다. 얼마나 속기 자판을 능숙하게 다루는지 테스트하는 것이다.'}]\n",
      "result state todo: {'messages': [HumanMessage(content='속기사', additional_kwargs={}, response_metadata={}, id='89b07fd7-b50c-4814-b4bd-507db6d827e8')], 'query': '속기사 하는일', 'searches': [{'url': 'https://m.blog.naver.com/psr9231/223542076303', 'content': '속기사 하는 일, 14년차 속기사가 들려주는 솔직한 이야기 : 네이버 블로그 속기사 하는 일, 14년차 속기사가 들려주는 솔직한 이야기 속기사 하는일, 14년차 속기사가 들려주는 솔직한 이야기 오늘 이 글에서는 속기사 하는 일은 물론 속기사라는 직업이 지닌 진정한 가치와 매력에 대해 진솔하게 이야기 나누고자 합니다. 속기사는 단순히 빠르게 타이핑하는 사람이 아닌, 책임감 있는 기록을 전달하는 전문가라고 할 수 있습니다. 속기사 하는 일, 속기사 하는 일 파헤치기 녹취록에 어떤 내용을 담아야 하는지, 필요한 추가 정보를 수집하도록 안내하는 등 의뢰인에게 도움 되는 방향으로 이끌 수 있습니다. 하지만 속기사가 가져야 하는 앞으로 속기사가 되고자 하는 예비 속기사님들이 반드시 알아가셨으면 하는 것이 있습니다. 끊임없는 노력과 열정으로 성장한다면, 누군가의 삶에 큰 도움이 되는 전문 속기사로 거듭날 수 있을 것입니다. {\"title\":\"속기사 하는 일, 14년차 속기사가 들려주는 솔직한 이야기\",\"source\":\"https://blog.naver.com/psr9231/223542076303\",\"blogName\":\"신속기사무..\",\"blogId\":\"psr9231\",\"domainIdOrBlogId\":\"psr9231\",\"nicknameOrBlogId\":\"신속기사무소\",\"logNo\":223542076303,\"smartEditorVersion\":4,\"meDisplay\":true,\"lineDisplay\":true,\"outsideDisplay\":true,\"cafeDisplay\":true,\"blogDisplay\":true}'}, {'url': 'https://soristory.tistory.com/16', 'content': '학술 세미나, 연구 발표 등의 내용을 기록하는 학술 속기사는 해당 분야의 전문 용어와 개념을 이해하는 것이 중요합니다. 이 프로그램을 통해 속기 내용을 빠르게 문서화할 수 있습니다. 요약하자면, 속기사가 되기 위해서는 속기 기법, 용어, 분야별 전문 지식 등 다양한 영역에서 능력을 길러야 합니다. 속기 소프트웨어에는 전문 용어, 약어, 사용자 정의 기호 등을 저장할 수 있는 사전 기능이 있어요. 법원, 의료, 비즈니스, 학술 등 다양한 분야마다 요구되는 전문 지식이 다르기 때문에, 속기사는 자신의 전문 분야에서 관련 지식을 꾸준히 쌓아야 합니다. 예를 들어, 대한법원속기사협회의 법률 속기 교육 과정, 한국속기사협회의 속기 기호 및 번역 교육 과정 등이 있습니다. 속기사 협회나 커뮤니티를 통해 속기 기계, 소프트웨어의 업데이트, 최신 기술 트렌드에 대한 정보를 얻을 수 있습니다. 다양한 의료 속기 사례 연구와 함께 수술 기록 연습 등을 통해 실무 능력을 키울 수 있어요.'}, {'url': 'https://namu.wiki/w/속기사', 'content': '5월 6일 경 FishFast의 속기사 자격이 회복되었는데, 시험 규정상의 문제는 ... 속기 자판을 사용해야 하는 이유 속기사 자격증은 속기사의 능력을 테스트하는 것이지 빠른 타자 대회가 절대 아니다. 얼마나 속기 자판을 능숙하게 다루는지 테스트하는 것이다.'}]}\n",
      "state : {'messages': [HumanMessage(content='속기사', additional_kwargs={}, response_metadata={}, id='89b07fd7-b50c-4814-b4bd-507db6d827e8')]}\n"
     ]
    },
    {
     "ename": "KeyError",
     "evalue": "'searches'",
     "output_type": "error",
     "traceback": [
      "\u001b[0;31m---------------------------------------------------------------------------\u001b[0m",
      "\u001b[0;31mKeyError\u001b[0m                                  Traceback (most recent call last)",
      "Cell \u001b[0;32mIn[44], line 1\u001b[0m\n\u001b[0;32m----> 1\u001b[0m result \u001b[38;5;241m=\u001b[39m \u001b[43mgraph\u001b[49m\u001b[38;5;241;43m.\u001b[39;49m\u001b[43minvoke\u001b[49m\u001b[43m(\u001b[49m\u001b[43m{\u001b[49m\u001b[38;5;124;43m\"\u001b[39;49m\u001b[38;5;124;43mmessages\u001b[39;49m\u001b[38;5;124;43m\"\u001b[39;49m\u001b[43m:\u001b[49m\u001b[43mjob_list\u001b[49m\u001b[43m[\u001b[49m\u001b[38;5;241;43m0\u001b[39;49m\u001b[43m]\u001b[49m\u001b[43m}\u001b[49m\u001b[43m,\u001b[49m\u001b[43m \u001b[49m\u001b[43mconfig\u001b[49m\u001b[43m)\u001b[49m\n",
      "File \u001b[0;32m/workspace/DataGenerator/.venv/lib/python3.11/site-packages/langgraph/pregel/__init__.py:1927\u001b[0m, in \u001b[0;36mPregel.invoke\u001b[0;34m(self, input, config, stream_mode, output_keys, interrupt_before, interrupt_after, debug, **kwargs)\u001b[0m\n\u001b[1;32m   1925\u001b[0m \u001b[38;5;28;01melse\u001b[39;00m:\n\u001b[1;32m   1926\u001b[0m     chunks \u001b[38;5;241m=\u001b[39m []\n\u001b[0;32m-> 1927\u001b[0m \u001b[43m\u001b[49m\u001b[38;5;28;43;01mfor\u001b[39;49;00m\u001b[43m \u001b[49m\u001b[43mchunk\u001b[49m\u001b[43m \u001b[49m\u001b[38;5;129;43;01min\u001b[39;49;00m\u001b[43m \u001b[49m\u001b[38;5;28;43mself\u001b[39;49m\u001b[38;5;241;43m.\u001b[39;49m\u001b[43mstream\u001b[49m\u001b[43m(\u001b[49m\n\u001b[1;32m   1928\u001b[0m \u001b[43m    \u001b[49m\u001b[38;5;28;43minput\u001b[39;49m\u001b[43m,\u001b[49m\n\u001b[1;32m   1929\u001b[0m \u001b[43m    \u001b[49m\u001b[43mconfig\u001b[49m\u001b[43m,\u001b[49m\n\u001b[1;32m   1930\u001b[0m \u001b[43m    \u001b[49m\u001b[43mstream_mode\u001b[49m\u001b[38;5;241;43m=\u001b[39;49m\u001b[43mstream_mode\u001b[49m\u001b[43m,\u001b[49m\n\u001b[1;32m   1931\u001b[0m \u001b[43m    \u001b[49m\u001b[43moutput_keys\u001b[49m\u001b[38;5;241;43m=\u001b[39;49m\u001b[43moutput_keys\u001b[49m\u001b[43m,\u001b[49m\n\u001b[1;32m   1932\u001b[0m \u001b[43m    \u001b[49m\u001b[43minterrupt_before\u001b[49m\u001b[38;5;241;43m=\u001b[39;49m\u001b[43minterrupt_before\u001b[49m\u001b[43m,\u001b[49m\n\u001b[1;32m   1933\u001b[0m \u001b[43m    \u001b[49m\u001b[43minterrupt_after\u001b[49m\u001b[38;5;241;43m=\u001b[39;49m\u001b[43minterrupt_after\u001b[49m\u001b[43m,\u001b[49m\n\u001b[1;32m   1934\u001b[0m \u001b[43m    \u001b[49m\u001b[43mdebug\u001b[49m\u001b[38;5;241;43m=\u001b[39;49m\u001b[43mdebug\u001b[49m\u001b[43m,\u001b[49m\n\u001b[1;32m   1935\u001b[0m \u001b[43m    \u001b[49m\u001b[38;5;241;43m*\u001b[39;49m\u001b[38;5;241;43m*\u001b[39;49m\u001b[43mkwargs\u001b[49m\u001b[43m,\u001b[49m\n\u001b[1;32m   1936\u001b[0m \u001b[43m\u001b[49m\u001b[43m)\u001b[49m\u001b[43m:\u001b[49m\n\u001b[1;32m   1937\u001b[0m \u001b[43m    \u001b[49m\u001b[38;5;28;43;01mif\u001b[39;49;00m\u001b[43m \u001b[49m\u001b[43mstream_mode\u001b[49m\u001b[43m \u001b[49m\u001b[38;5;241;43m==\u001b[39;49m\u001b[43m \u001b[49m\u001b[38;5;124;43m\"\u001b[39;49m\u001b[38;5;124;43mvalues\u001b[39;49m\u001b[38;5;124;43m\"\u001b[39;49m\u001b[43m:\u001b[49m\n\u001b[1;32m   1938\u001b[0m \u001b[43m        \u001b[49m\u001b[43mlatest\u001b[49m\u001b[43m \u001b[49m\u001b[38;5;241;43m=\u001b[39;49m\u001b[43m \u001b[49m\u001b[43mchunk\u001b[49m\n",
      "File \u001b[0;32m/workspace/DataGenerator/.venv/lib/python3.11/site-packages/langgraph/pregel/__init__.py:1647\u001b[0m, in \u001b[0;36mPregel.stream\u001b[0;34m(self, input, config, stream_mode, output_keys, interrupt_before, interrupt_after, debug, subgraphs)\u001b[0m\n\u001b[1;32m   1641\u001b[0m     \u001b[38;5;66;03m# Similarly to Bulk Synchronous Parallel / Pregel model\u001b[39;00m\n\u001b[1;32m   1642\u001b[0m     \u001b[38;5;66;03m# computation proceeds in steps, while there are channel updates\u001b[39;00m\n\u001b[1;32m   1643\u001b[0m     \u001b[38;5;66;03m# channel updates from step N are only visible in step N+1\u001b[39;00m\n\u001b[1;32m   1644\u001b[0m     \u001b[38;5;66;03m# channels are guaranteed to be immutable for the duration of the step,\u001b[39;00m\n\u001b[1;32m   1645\u001b[0m     \u001b[38;5;66;03m# with channel updates applied only at the transition between steps\u001b[39;00m\n\u001b[1;32m   1646\u001b[0m     \u001b[38;5;28;01mwhile\u001b[39;00m loop\u001b[38;5;241m.\u001b[39mtick(input_keys\u001b[38;5;241m=\u001b[39m\u001b[38;5;28mself\u001b[39m\u001b[38;5;241m.\u001b[39minput_channels):\n\u001b[0;32m-> 1647\u001b[0m \u001b[43m        \u001b[49m\u001b[38;5;28;43;01mfor\u001b[39;49;00m\u001b[43m \u001b[49m\u001b[43m_\u001b[49m\u001b[43m \u001b[49m\u001b[38;5;129;43;01min\u001b[39;49;00m\u001b[43m \u001b[49m\u001b[43mrunner\u001b[49m\u001b[38;5;241;43m.\u001b[39;49m\u001b[43mtick\u001b[49m\u001b[43m(\u001b[49m\n\u001b[1;32m   1648\u001b[0m \u001b[43m            \u001b[49m\u001b[43mloop\u001b[49m\u001b[38;5;241;43m.\u001b[39;49m\u001b[43mtasks\u001b[49m\u001b[38;5;241;43m.\u001b[39;49m\u001b[43mvalues\u001b[49m\u001b[43m(\u001b[49m\u001b[43m)\u001b[49m\u001b[43m,\u001b[49m\n\u001b[1;32m   1649\u001b[0m \u001b[43m            \u001b[49m\u001b[43mtimeout\u001b[49m\u001b[38;5;241;43m=\u001b[39;49m\u001b[38;5;28;43mself\u001b[39;49m\u001b[38;5;241;43m.\u001b[39;49m\u001b[43mstep_timeout\u001b[49m\u001b[43m,\u001b[49m\n\u001b[1;32m   1650\u001b[0m \u001b[43m            \u001b[49m\u001b[43mretry_policy\u001b[49m\u001b[38;5;241;43m=\u001b[39;49m\u001b[38;5;28;43mself\u001b[39;49m\u001b[38;5;241;43m.\u001b[39;49m\u001b[43mretry_policy\u001b[49m\u001b[43m,\u001b[49m\n\u001b[1;32m   1651\u001b[0m \u001b[43m            \u001b[49m\u001b[43mget_waiter\u001b[49m\u001b[38;5;241;43m=\u001b[39;49m\u001b[43mget_waiter\u001b[49m\u001b[43m,\u001b[49m\n\u001b[1;32m   1652\u001b[0m \u001b[43m        \u001b[49m\u001b[43m)\u001b[49m\u001b[43m:\u001b[49m\n\u001b[1;32m   1653\u001b[0m \u001b[43m            \u001b[49m\u001b[38;5;66;43;03m# emit output\u001b[39;49;00m\n\u001b[1;32m   1654\u001b[0m \u001b[43m            \u001b[49m\u001b[38;5;28;43;01myield from\u001b[39;49;00m\u001b[43m \u001b[49m\u001b[43moutput\u001b[49m\u001b[43m(\u001b[49m\u001b[43m)\u001b[49m\n\u001b[1;32m   1655\u001b[0m \u001b[38;5;66;03m# emit output\u001b[39;00m\n",
      "File \u001b[0;32m/workspace/DataGenerator/.venv/lib/python3.11/site-packages/langgraph/pregel/runner.py:104\u001b[0m, in \u001b[0;36mPregelRunner.tick\u001b[0;34m(self, tasks, reraise, timeout, retry_policy, get_waiter)\u001b[0m\n\u001b[1;32m    102\u001b[0m t \u001b[38;5;241m=\u001b[39m tasks[\u001b[38;5;241m0\u001b[39m]\n\u001b[1;32m    103\u001b[0m \u001b[38;5;28;01mtry\u001b[39;00m:\n\u001b[0;32m--> 104\u001b[0m     \u001b[43mrun_with_retry\u001b[49m\u001b[43m(\u001b[49m\u001b[43mt\u001b[49m\u001b[43m,\u001b[49m\u001b[43m \u001b[49m\u001b[43mretry_policy\u001b[49m\u001b[43m,\u001b[49m\u001b[43m \u001b[49m\u001b[43mwriter\u001b[49m\u001b[38;5;241;43m=\u001b[39;49m\u001b[43mwriter\u001b[49m\u001b[43m)\u001b[49m\n\u001b[1;32m    105\u001b[0m     \u001b[38;5;28mself\u001b[39m\u001b[38;5;241m.\u001b[39mcommit(t, \u001b[38;5;28;01mNone\u001b[39;00m)\n\u001b[1;32m    106\u001b[0m \u001b[38;5;28;01mexcept\u001b[39;00m \u001b[38;5;167;01mException\u001b[39;00m \u001b[38;5;28;01mas\u001b[39;00m exc:\n",
      "File \u001b[0;32m/workspace/DataGenerator/.venv/lib/python3.11/site-packages/langgraph/pregel/retry.py:40\u001b[0m, in \u001b[0;36mrun_with_retry\u001b[0;34m(task, retry_policy, writer)\u001b[0m\n\u001b[1;32m     38\u001b[0m task\u001b[38;5;241m.\u001b[39mwrites\u001b[38;5;241m.\u001b[39mclear()\n\u001b[1;32m     39\u001b[0m \u001b[38;5;66;03m# run the task\u001b[39;00m\n\u001b[0;32m---> 40\u001b[0m \u001b[43mtask\u001b[49m\u001b[38;5;241;43m.\u001b[39;49m\u001b[43mproc\u001b[49m\u001b[38;5;241;43m.\u001b[39;49m\u001b[43minvoke\u001b[49m\u001b[43m(\u001b[49m\u001b[43mtask\u001b[49m\u001b[38;5;241;43m.\u001b[39;49m\u001b[43minput\u001b[49m\u001b[43m,\u001b[49m\u001b[43m \u001b[49m\u001b[43mconfig\u001b[49m\u001b[43m)\u001b[49m\n\u001b[1;32m     41\u001b[0m \u001b[38;5;66;03m# if successful, end\u001b[39;00m\n\u001b[1;32m     42\u001b[0m \u001b[38;5;28;01mbreak\u001b[39;00m\n",
      "File \u001b[0;32m/workspace/DataGenerator/.venv/lib/python3.11/site-packages/langgraph/utils/runnable.py:410\u001b[0m, in \u001b[0;36mRunnableSeq.invoke\u001b[0;34m(self, input, config, **kwargs)\u001b[0m\n\u001b[1;32m    408\u001b[0m context\u001b[38;5;241m.\u001b[39mrun(_set_config_context, config)\n\u001b[1;32m    409\u001b[0m \u001b[38;5;28;01mif\u001b[39;00m i \u001b[38;5;241m==\u001b[39m \u001b[38;5;241m0\u001b[39m:\n\u001b[0;32m--> 410\u001b[0m     \u001b[38;5;28minput\u001b[39m \u001b[38;5;241m=\u001b[39m \u001b[43mcontext\u001b[49m\u001b[38;5;241;43m.\u001b[39;49m\u001b[43mrun\u001b[49m\u001b[43m(\u001b[49m\u001b[43mstep\u001b[49m\u001b[38;5;241;43m.\u001b[39;49m\u001b[43minvoke\u001b[49m\u001b[43m,\u001b[49m\u001b[43m \u001b[49m\u001b[38;5;28;43minput\u001b[39;49m\u001b[43m,\u001b[49m\u001b[43m \u001b[49m\u001b[43mconfig\u001b[49m\u001b[43m,\u001b[49m\u001b[43m \u001b[49m\u001b[38;5;241;43m*\u001b[39;49m\u001b[38;5;241;43m*\u001b[39;49m\u001b[43mkwargs\u001b[49m\u001b[43m)\u001b[49m\n\u001b[1;32m    411\u001b[0m \u001b[38;5;28;01melse\u001b[39;00m:\n\u001b[1;32m    412\u001b[0m     \u001b[38;5;28minput\u001b[39m \u001b[38;5;241m=\u001b[39m context\u001b[38;5;241m.\u001b[39mrun(step\u001b[38;5;241m.\u001b[39minvoke, \u001b[38;5;28minput\u001b[39m, config)\n",
      "File \u001b[0;32m/workspace/DataGenerator/.venv/lib/python3.11/site-packages/langgraph/utils/runnable.py:184\u001b[0m, in \u001b[0;36mRunnableCallable.invoke\u001b[0;34m(self, input, config, **kwargs)\u001b[0m\n\u001b[1;32m    182\u001b[0m \u001b[38;5;28;01melse\u001b[39;00m:\n\u001b[1;32m    183\u001b[0m     context\u001b[38;5;241m.\u001b[39mrun(_set_config_context, config)\n\u001b[0;32m--> 184\u001b[0m     ret \u001b[38;5;241m=\u001b[39m \u001b[43mcontext\u001b[49m\u001b[38;5;241;43m.\u001b[39;49m\u001b[43mrun\u001b[49m\u001b[43m(\u001b[49m\u001b[38;5;28;43mself\u001b[39;49m\u001b[38;5;241;43m.\u001b[39;49m\u001b[43mfunc\u001b[49m\u001b[43m,\u001b[49m\u001b[43m \u001b[49m\u001b[38;5;28;43minput\u001b[39;49m\u001b[43m,\u001b[49m\u001b[43m \u001b[49m\u001b[38;5;241;43m*\u001b[39;49m\u001b[38;5;241;43m*\u001b[39;49m\u001b[43mkwargs\u001b[49m\u001b[43m)\u001b[49m\n\u001b[1;32m    185\u001b[0m \u001b[38;5;28;01mif\u001b[39;00m \u001b[38;5;28misinstance\u001b[39m(ret, Runnable) \u001b[38;5;129;01mand\u001b[39;00m \u001b[38;5;28mself\u001b[39m\u001b[38;5;241m.\u001b[39mrecurse:\n\u001b[1;32m    186\u001b[0m     \u001b[38;5;28;01mreturn\u001b[39;00m ret\u001b[38;5;241m.\u001b[39minvoke(\u001b[38;5;28minput\u001b[39m, config)\n",
      "Cell \u001b[0;32mIn[40], line 24\u001b[0m, in \u001b[0;36mNode__extract_content\u001b[0;34m(state)\u001b[0m\n\u001b[1;32m     22\u001b[0m logger\u001b[38;5;241m.\u001b[39minfo(\u001b[38;5;124m\"\u001b[39m\u001b[38;5;124mNode__extract_content\u001b[39m\u001b[38;5;124m\"\u001b[39m)\n\u001b[1;32m     23\u001b[0m \u001b[38;5;28mprint\u001b[39m(\u001b[38;5;124m\"\u001b[39m\u001b[38;5;124mstate :\u001b[39m\u001b[38;5;124m\"\u001b[39m,state)\n\u001b[0;32m---> 24\u001b[0m \u001b[38;5;28;01mfor\u001b[39;00m idx,search \u001b[38;5;129;01min\u001b[39;00m \u001b[38;5;28menumerate\u001b[39m(\u001b[43mstate\u001b[49m\u001b[43m[\u001b[49m\u001b[38;5;124;43m'\u001b[39;49m\u001b[38;5;124;43msearches\u001b[39;49m\u001b[38;5;124;43m'\u001b[39;49m\u001b[43m]\u001b[49m):\n\u001b[1;32m     25\u001b[0m     logger\u001b[38;5;241m.\u001b[39mwarning(\u001b[38;5;124mf\u001b[39m\u001b[38;5;124m\"\u001b[39m\u001b[38;5;124msearch_\u001b[39m\u001b[38;5;132;01m{\u001b[39;00midx\u001b[38;5;132;01m}\u001b[39;00m\u001b[38;5;124m : \u001b[39m\u001b[38;5;132;01m{\u001b[39;00msearch[\u001b[38;5;124m'\u001b[39m\u001b[38;5;124mhref\u001b[39m\u001b[38;5;124m'\u001b[39m]\u001b[38;5;132;01m}\u001b[39;00m\u001b[38;5;124m\"\u001b[39m)\n\u001b[1;32m     26\u001b[0m     detailed_content \u001b[38;5;241m=\u001b[39m extract_content(search[\u001b[38;5;124m'\u001b[39m\u001b[38;5;124mhref\u001b[39m\u001b[38;5;124m'\u001b[39m])\n",
      "\u001b[0;31mKeyError\u001b[0m: 'searches'"
     ]
    }
   ],
   "source": [
    "result = graph.invoke({\"messages\":job_list[0]}, config)"
   ]
  },
  {
   "cell_type": "code",
   "execution_count": 26,
   "metadata": {},
   "outputs": [],
   "source": [
    "def extract_content(link):\n",
    "    \"\"\"\n",
    "        Des:\n",
    "            주어진 링크에 대한 내용 추출하는 함수\n",
    "    \"\"\"\n",
    "    loader = AsyncHtmlLoader(link)\n",
    "    docs = loader.load()\n",
    "    html2text = Html2TextTransformer()\n",
    "    docs_transformed = html2text.transform_documents(docs,metadata_type=\"html\")\n",
    "    desc = docs_transformed[0].metadata.get('description',\"\")\n",
    "    detailed_content = docs_transformed[0].page_content\n",
    "    return desc,detailed_content"
   ]
  },
  {
   "cell_type": "markdown",
   "metadata": {},
   "source": [
    "프롬프트"
   ]
  },
  {
   "cell_type": "code",
   "execution_count": 26,
   "metadata": {},
   "outputs": [],
   "source": [
    "# Input\n",
    "BASE_PROMPT = \"\"\"\n",
    "발전소 관련 데이터를 생성하고 있습니다.\n",
    "용어에 대한 정의를 나타내는 문장을 생성하세요.\n",
    "\n",
    "예를 들어, 아래와 같은 형식으로 주요 용어를 정의할 수 있습니다:\n",
    "발전소(Power Plant)는 전기를 생산하기 위해 다양한 에너지원(화석 연료, 원자력, 재생 가능 에너지 등)을 이용하여 전력을 생성하고 이를 전력망에 공급하는 시설을 말한다. 발전소는 사용하는 에너지원과 발전 방식에 따라 여러 종류로 구분된다.\n",
    "\n",
    "다음 지시사항을 따르세요.\n",
    "1. 한국어와 영어를 제외한 언어는 사용하지 않습니다.\n",
    "2. 정확히 아는 정보에 대해서는 자세히 설명합니다.\n",
    "3. 생성해야할 용어에 대한 정보는 [용어 정보]를 참고하세요.\n",
    "\n",
    "[용어 정보]\n",
    "{query}\n",
    "\n",
    "생성 문장 :\n",
    "\"\"\""
   ]
  },
  {
   "cell_type": "markdown",
   "metadata": {},
   "source": [
    "데이터 생성 수행"
   ]
  },
  {
   "cell_type": "code",
   "execution_count": null,
   "metadata": {},
   "outputs": [],
   "source": [
    "SAVE_PATH = os.path.join(PREPROCESSED_PATH,'PowerPlant_Glossary.json')\n",
    "\n",
    "try:\n",
    "    dataset = json.load(open(SAVE_PATH, 'r', encoding='utf-8'))\n",
    "except:\n",
    "    dataset = []\n",
    "\n",
    "for idx, query in enumerate(tqdm(queries)):\n",
    "    PROMPT = BASE_PROMPT.format(query=query[1])\n",
    "    INPUT_MESSAGES = [SystemMessage(content=\"당신은 데이터 생성 어시스턴트입니다.\"), \n",
    "                      HumanMessage(PROMPT)]\n",
    "    try:\n",
    "        output = graph.invoke({\"messages\":INPUT_MESSAGES}, config)[\"messages\"][-1].content\n",
    "        dataset.append({\"name\": query[0],\n",
    "                        \"info\": query[1],\n",
    "                        \"prompt\": PROMPT,\n",
    "                        \"response\": output})\n",
    "        with open(SAVE_PATH, 'w', encoding='utf-8') as file:\n",
    "            json.dump(dataset, file, ensure_ascii=False, indent=4)\n",
    "    except Exception as e:\n",
    "        with open(f'error_log.txt', 'a', encoding='utf-8') as file:\n",
    "            file.write(f\"{idx} : {query[1]} : {e}\\n\")\n",
    "        continue"
   ]
  },
  {
   "cell_type": "markdown",
   "metadata": {},
   "source": [
    "프롬프트 생성"
   ]
  },
  {
   "cell_type": "code",
   "execution_count": 77,
   "metadata": {},
   "outputs": [],
   "source": [
    "# Input\n",
    "BASE_PROMPT = \"\"\"\n",
    "발전소 관련 데이터를 생성하고 있습니다.\n",
    "다음 답변에 대한 요청문을 생성하세요.\n",
    "\n",
    "예를 들어 주어진 정보가 있을때, 생성된 요청문은 아래와 같습니다.\n",
    "\n",
    "# 주어진 정보\n",
    "태양광발전 판넬(Photovoltaic Panel)은 태양광을 전기 에너지로 변환하는 태양전지 모듈들을 기계적으로 결합하여 널판 형태로 만든 집합체를 말한다. 이 판넬은 어레이 또는 하위의 소어레이에 설치 가능한 단위로 설계되어 미리 조립하고 결선하여 함께 결합된 형태로 제공되며, 현장에서 쉽게 조립할 수 있도록 설계되어 있다.\n",
    "\n",
    "# 생성된 요청문\n",
    "태양광발전시스템에 대해 설명해주세요.\n",
    "\n",
    "다음 지시사항을 따르세요.\n",
    "1. 한국어와 영어를 제외한 언어는 사용하지 않습니다.\n",
    "2. 요청문은 간결한 문장 1개만 사용하세요.\n",
    "3. 요청문은 용어에 대한 정의를 묻는 질문만 사용합니다.\n",
    "4. 요청문은 다양한 형태를 사용할 수 있습니다. 예를들어, 아래중에 한가지를 사용할 수 있습니다.\n",
    "    4.1 태양광발전시스템에 대해 설명해주세요.\n",
    "    4.2 태양광발전시스템이 뭐죠?\n",
    "    4.3 태양광발전시스템에 대해 알려주실래요?\n",
    "    4.4 태양광발전시스템이 뭔가요?\n",
    "    4.5 태양광발전시스템에 대해 알려주세요.\n",
    "\n",
    "[주어진 정보]\n",
    "{response}\n",
    "\n",
    "생성된 요청문 :\n",
    "\"\"\""
   ]
  },
  {
   "cell_type": "code",
   "execution_count": null,
   "metadata": {},
   "outputs": [],
   "source": [
    "PREVIOUS_SAVE_PATH = os.path.join(PREPROCESSED_PATH,'PowerPlant_Glossary.json')\n",
    "NEW_SAVE_PATH = os.path.join(PREPROCESSED_PATH,'PowerPlant_Glossary_ver2.json')\n",
    "dataset = json.load(open(PREVIOUS_SAVE_PATH, 'r', encoding='utf-8'))\n",
    "\n",
    "try:\n",
    "    new_dataset = json.load(open(NEW_SAVE_PATH, 'r', encoding='utf-8'))\n",
    "except:\n",
    "    new_dataset = []\n",
    "\n",
    "for idx, query in enumerate(tqdm(dataset)):\n",
    "    PROMPT = BASE_PROMPT.format(response=query['response'])\n",
    "    INPUT_MESSAGES = [SystemMessage(content=\"당신은 데이터 생성 어시스턴트입니다.\"), \n",
    "                      HumanMessage(PROMPT)]\n",
    "    try:\n",
    "        output = graph.invoke({\"messages\":INPUT_MESSAGES}, config)[\"messages\"][-1].content\n",
    "        new_dataset.append({\"name\": query['name'],\n",
    "                            \"info\": query['info'],\n",
    "                            \"prompt_for_instruction\": PROMPT,\n",
    "                            \"prompt_for_response\": query['prompt'],\n",
    "                            \"instruction\": output,\n",
    "                            \"response\": query['response']})\n",
    "        with open(NEW_SAVE_PATH, 'w', encoding='utf-8') as file:\n",
    "            json.dump(new_dataset, file, ensure_ascii=False, indent=4)\n",
    "    except Exception as e:\n",
    "        with open(f'error_log.txt', 'a', encoding='utf-8') as file:\n",
    "            file.write(f\"{idx} : {query[1]} : {e}\\n\")\n",
    "        continue"
   ]
  }
 ],
 "metadata": {
  "kernelspec": {
   "display_name": "DataGenerator_env",
   "language": "python",
   "name": "datagenerator_env"
  },
  "language_info": {
   "codemirror_mode": {
    "name": "ipython",
    "version": 3
   },
   "file_extension": ".py",
   "mimetype": "text/x-python",
   "name": "python",
   "nbconvert_exporter": "python",
   "pygments_lexer": "ipython3",
   "version": "3.11.10"
  }
 },
 "nbformat": 4,
 "nbformat_minor": 2
}
